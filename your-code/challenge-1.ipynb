{
 "cells": [
  {
   "cell_type": "code",
   "execution_count": 1,
   "metadata": {},
   "outputs": [],
   "source": [
    "# Importing libraries\n",
    "\n",
    "import requests\n",
    "import json \n",
    "import pandas as pd"
   ]
  },
  {
   "cell_type": "code",
   "execution_count": 2,
   "metadata": {},
   "outputs": [
    {
     "data": {
      "text/plain": [
       "<Response [200]>"
      ]
     },
     "execution_count": 2,
     "metadata": {},
     "output_type": "execute_result"
    }
   ],
   "source": [
    "# Assign page URL to a variable\n",
    "# GET /repos/:owner/:repo/forks\n",
    "\n",
    "url = 'https://api.github.com/repos/ironhack-datalabs/datalis0819/forks'\n",
    "\n",
    "# get method from requests\n",
    "response = requests.get(url)\n",
    "\n",
    "# check if you have the info\n",
    "response"
   ]
  },
  {
   "cell_type": "code",
   "execution_count": 3,
   "metadata": {},
   "outputs": [
    {
     "data": {
      "text/plain": [
       "requests.models.Response"
      ]
     },
     "execution_count": 3,
     "metadata": {},
     "output_type": "execute_result"
    }
   ],
   "source": [
    "type(response)\n",
    "\n",
    "#list of dictionaries"
   ]
  },
  {
   "cell_type": "code",
   "execution_count": 4,
   "metadata": {},
   "outputs": [],
   "source": [
    "# Loop the JSON response to find out the language attribute of each fork. \n",
    "# Use an array to store the language attributes of each fork.\n",
    "\n",
    "# Hint: Each language should appear only once in your array."
   ]
  },
  {
   "cell_type": "code",
   "execution_count": 5,
   "metadata": {},
   "outputs": [],
   "source": [
    "# create a dataframe\n",
    "ds = pd.DataFrame(response.json())\n",
    "#ds.head(10)"
   ]
  },
  {
   "cell_type": "code",
   "execution_count": 6,
   "metadata": {},
   "outputs": [
    {
     "data": {
      "text/plain": [
       "0                 None\n",
       "1                 None\n",
       "2     Jupyter Notebook\n",
       "3     Jupyter Notebook\n",
       "4     Jupyter Notebook\n",
       "5     Jupyter Notebook\n",
       "6     Jupyter Notebook\n",
       "7     Jupyter Notebook\n",
       "8     Jupyter Notebook\n",
       "9     Jupyter Notebook\n",
       "10    Jupyter Notebook\n",
       "11    Jupyter Notebook\n",
       "12    Jupyter Notebook\n",
       "13    Jupyter Notebook\n",
       "Name: language, dtype: object"
      ]
     },
     "execution_count": 6,
     "metadata": {},
     "output_type": "execute_result"
    }
   ],
   "source": [
    "# define array (list) - choose the language(key)\n",
    "\n",
    "languages = ds['language']\n",
    "languages"
   ]
  },
  {
   "cell_type": "code",
   "execution_count": 8,
   "metadata": {},
   "outputs": [
    {
     "name": "stdout",
     "output_type": "stream",
     "text": [
      "[None, 'Jupyter Notebook']\n"
     ]
    }
   ],
   "source": [
    "# drop duplicates\n",
    "languages = languages.drop_duplicates()\n",
    "# print result as a list\n",
    "print(list(languages))"
   ]
  },
  {
   "cell_type": "code",
   "execution_count": null,
   "metadata": {},
   "outputs": [],
   "source": []
  }
 ],
 "metadata": {
  "kernelspec": {
   "display_name": "Python 3",
   "language": "python",
   "name": "python3"
  },
  "language_info": {
   "codemirror_mode": {
    "name": "ipython",
    "version": 3
   },
   "file_extension": ".py",
   "mimetype": "text/x-python",
   "name": "python",
   "nbconvert_exporter": "python",
   "pygments_lexer": "ipython3",
   "version": "3.7.4"
  }
 },
 "nbformat": 4,
 "nbformat_minor": 2
}
